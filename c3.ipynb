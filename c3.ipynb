{
 "metadata": {
  "language_info": {
   "codemirror_mode": {
    "name": "ipython",
    "version": 3
   },
   "file_extension": ".py",
   "mimetype": "text/x-python",
   "name": "python",
   "nbconvert_exporter": "python",
   "pygments_lexer": "ipython3",
   "version": 3
  },
  "orig_nbformat": 2
 },
 "nbformat": 4,
 "nbformat_minor": 2,
 "cells": [
  {
   "source": [
    "# Chapter 3 Intro to Neural Network\n",
    "三个例子来实现神经网络的用途：\n",
    "\n",
    "1. 通过电影的评论，分类为好评和差评（二分类）（输入数据为2D）\n",
    "2. 通过报道内容，在46个主题中选出样本的主题（N分类）（输入数据为2D）\n",
    "3. 通过多个因素，预测房价（回归问题）\n",
    "\n",
    "无论如何，神经网络的构建都是一下几步：\n",
    "\n",
    "1. 数据的预处理，向量化，留出测试集\n",
    "2. 神经网络结构的搭建\n",
    "3. 优化器，指标，loss方程的选择\n",
    "4. fit训练\n",
    "5. 画出指标、loss随训练轮次的变化曲线，避免过拟合\n",
    "6. 通过测试集，得到最终的性能"
   ],
   "cell_type": "markdown",
   "metadata": {}
  }
 ]
}