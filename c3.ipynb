{
 "metadata": {
  "language_info": {
   "codemirror_mode": {
    "name": "ipython",
    "version": 3
   },
   "file_extension": ".py",
   "mimetype": "text/x-python",
   "name": "python",
   "nbconvert_exporter": "python",
   "pygments_lexer": "ipython3",
   "version": "3.8.2-final"
  },
  "orig_nbformat": 2,
  "kernelspec": {
   "name": "python3",
   "display_name": "Python 3",
   "language": "python"
  }
 },
 "nbformat": 4,
 "nbformat_minor": 2,
 "cells": [
  {
   "source": [
    "# Chapter 3 Intro to Neural Network\n",
    "三个例子来实现神经网络的用途：\n",
    "\n",
    "1. 通过电影的评论，分类为好评和差评（二分类）（输入数据为2D）\n",
    "2. 通过报道内容，在46个主题中选出样本的主题（N分类）（输入数据为2D）\n",
    "3. 通过多个因素，预测房价（回归问题）\n",
    "\n",
    "无论如何，神经网络的构建都是一下几步：\n",
    "\n",
    "1. 数据的预处理，向量化，留出测试集\n",
    "2. 神经网络结构的搭建\n",
    "3. 优化器，指标，loss方程的选择\n",
    "4. fit训练\n",
    "5. 画出指标、loss随训练轮次的变化曲线，避免过拟合\n",
    "6. 通过测试集，得到最终的性能"
   ],
   "cell_type": "markdown",
   "metadata": {}
  },
  {
   "source": [
    "## 3.4 Movie comments classify: Binary problem\n",
    "### 3.4.1 IMDB Dataset (Need internet connection)"
   ],
   "cell_type": "markdown",
   "metadata": {}
  },
  {
   "cell_type": "code",
   "execution_count": 7,
   "metadata": {},
   "outputs": [],
   "source": [
    "from keras.datasets import imdb\n",
    "(train_data,train_label),(test_data,test_label) = imdb.load_data(num_words=10000)"
   ]
  },
  {
   "source": [
    "- The 'num_words=10000' means: the most common words in the comments\n",
    "- We can see the first comment is like this type:"
   ],
   "cell_type": "markdown",
   "metadata": {}
  },
  {
   "cell_type": "code",
   "execution_count": 2,
   "metadata": {},
   "outputs": [
    {
     "output_type": "error",
     "ename": "NameError",
     "evalue": "name 'train_data' is not defined",
     "traceback": [
      "\u001b[0;31m---------------------------------------------------------------------------\u001b[0m",
      "\u001b[0;31mNameError\u001b[0m                                 Traceback (most recent call last)",
      "\u001b[0;32m<ipython-input-2-320d84069262>\u001b[0m in \u001b[0;36m<module>\u001b[0;34m\u001b[0m\n\u001b[0;32m----> 1\u001b[0;31m \u001b[0mtrain_data\u001b[0m\u001b[0;34m[\u001b[0m\u001b[0;36m0\u001b[0m\u001b[0;34m]\u001b[0m\u001b[0;34m\u001b[0m\u001b[0;34m\u001b[0m\u001b[0m\n\u001b[0m",
      "\u001b[0;31mNameError\u001b[0m: name 'train_data' is not defined"
     ]
    }
   ],
   "source": [
    "train_data[0]"
   ]
  },
  {
   "cell_type": "code",
   "execution_count": null,
   "metadata": {},
   "outputs": [],
   "source": [
    "- 其中的数字表示一个单词，数字的编号不会超过9999，因为我们已经限定导入前一万词频的单词。"
   ]
  },
  {
   "source": [
    "### 3.4.2 Preprocess\n",
    "- 向量化输入和label\n",
    "- 向量化的方法：每一个样本输入都是（10000，）的张量，每个位置都指代相应序号的单词，单词出现，则相应位置为1，反之为0\n"
   ],
   "cell_type": "markdown",
   "metadata": {}
  },
  {
   "cell_type": "code",
   "execution_count": null,
   "metadata": {},
   "outputs": [],
   "source": [
    "import numpy as np\n"
   ]
  }
 ]
}