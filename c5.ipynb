{
  "nbformat": 4,
  "nbformat_minor": 0,
  "metadata": {
    "language_info": {
      "codemirror_mode": {
        "name": "ipython",
        "version": 3
      },
      "file_extension": ".py",
      "mimetype": "text/x-python",
      "name": "python",
      "nbconvert_exporter": "python",
      "pygments_lexer": "ipython3",
      "version": "3.8.2-final"
    },
    "orig_nbformat": 2,
    "kernelspec": {
      "name": "python3",
      "display_name": "Python 3",
      "language": "python"
    },
    "colab": {
      "name": "c5.ipynb",
      "provenance": [],
      "collapsed_sections": [],
      "include_colab_link": true
    }
  },
  "cells": [
    {
      "cell_type": "markdown",
      "metadata": {
        "id": "view-in-github",
        "colab_type": "text"
      },
      "source": [
        "<a href=\"https://colab.research.google.com/github/paperplane110/learning/blob/master/c5.ipynb\" target=\"_parent\"><img src=\"https://colab.research.google.com/assets/colab-badge.svg\" alt=\"Open In Colab\"/></a>"
      ]
    },
    {
      "cell_type": "markdown",
      "metadata": {
        "id": "w8l5X3zIWq2M"
      },
      "source": [
        "# Deep Learning applied in CV\n",
        "- Use CNN to process computer vision\n",
        "- We will use Conv2D and MaxPooling2D layers"
      ]
    },
    {
      "cell_type": "markdown",
      "metadata": {
        "id": "Im-fEy9iWq2S"
      },
      "source": [
        "## 5.1 Warm up: use CNN on MNIST"
      ]
    },
    {
      "cell_type": "code",
      "metadata": {
        "id": "JdoaaRRUWq2U"
      },
      "source": [
        "from keras.datasets import mnist\n",
        "from keras.utils import to_categorical\n",
        "\n",
        "(train_images,train_label),(test_images,test_label) = mnist.load_data()"
      ],
      "execution_count": 25,
      "outputs": []
    },
    {
      "cell_type": "markdown",
      "metadata": {
        "id": "Pjm-C3MSXf9p"
      },
      "source": [
        "- Process the data\n",
        "- <font color='red'>Note that, the Conv2D layer's accepted input is 3D tensor (height,width,channel)</font>"
      ]
    },
    {
      "cell_type": "code",
      "metadata": {
        "id": "qAFEEuIJWq2V"
      },
      "source": [
        "train_images = train_images.reshape((60000,28,28,1))\n",
        "train_images = train_images.astype('float32')/255\n",
        "\n",
        "test_images = test_images.reshape((10000,28,28,1))\n",
        "test_images = test_images.astype('float32')/255\n",
        "\n",
        "train_label = to_categorical(train_label)\n",
        "test_label = to_categorical(test_label)"
      ],
      "execution_count": 26,
      "outputs": []
    },
    {
      "cell_type": "markdown",
      "metadata": {
        "id": "c-yYtHVDXv0E"
      },
      "source": [
        "- Build the CNN network"
      ]
    },
    {
      "cell_type": "code",
      "metadata": {
        "colab": {
          "base_uri": "https://localhost:8080/"
        },
        "id": "AdhhEFf3XEkA",
        "outputId": "5722de8a-d9e3-4ce6-bb31-e81acce50365"
      },
      "source": [
        "from keras import models\n",
        "from keras import layers\n",
        "\n",
        "network = models.Sequential()\n",
        "network.add(layers.Conv2D(32,(3,3), activation='relu', input_shape=(28,28,1)))\n",
        "network.add(layers.MaxPool2D((2,2)))\n",
        "network.add(layers.Conv2D(64, (3,3), activation='relu'))\n",
        "network.add(layers.MaxPool2D((2,2)))\n",
        "network.add(layers.Conv2D(64, (3,3), activation='relu'))\n",
        "network.summary()"
      ],
      "execution_count": 34,
      "outputs": [
        {
          "output_type": "stream",
          "text": [
            "Model: \"sequential_7\"\n",
            "_________________________________________________________________\n",
            "Layer (type)                 Output Shape              Param #   \n",
            "=================================================================\n",
            "conv2d (Conv2D)              (None, 26, 26, 32)        320       \n",
            "_________________________________________________________________\n",
            "max_pooling2d (MaxPooling2D) (None, 13, 13, 32)        0         \n",
            "_________________________________________________________________\n",
            "conv2d_1 (Conv2D)            (None, 11, 11, 64)        18496     \n",
            "_________________________________________________________________\n",
            "max_pooling2d_1 (MaxPooling2 (None, 5, 5, 64)          0         \n",
            "_________________________________________________________________\n",
            "conv2d_2 (Conv2D)            (None, 3, 3, 64)          36928     \n",
            "=================================================================\n",
            "Total params: 55,744\n",
            "Trainable params: 55,744\n",
            "Non-trainable params: 0\n",
            "_________________________________________________________________\n"
          ],
          "name": "stdout"
        }
      ]
    },
    {
      "cell_type": "code",
      "metadata": {
        "colab": {
          "base_uri": "https://localhost:8080/"
        },
        "id": "8G9hiGglesI2",
        "outputId": "fc84a5c3-32be-4474-fc33-a688431fd998"
      },
      "source": [
        "network.add(layers.Flatten())\n",
        "network.add(layers.Dense(64, activation='relu'))\n",
        "network.add(layers.Dense(10, activation='softmax'))\n",
        "network.summary()"
      ],
      "execution_count": 35,
      "outputs": [
        {
          "output_type": "stream",
          "text": [
            "Model: \"sequential_7\"\n",
            "_________________________________________________________________\n",
            "Layer (type)                 Output Shape              Param #   \n",
            "=================================================================\n",
            "conv2d (Conv2D)              (None, 26, 26, 32)        320       \n",
            "_________________________________________________________________\n",
            "max_pooling2d (MaxPooling2D) (None, 13, 13, 32)        0         \n",
            "_________________________________________________________________\n",
            "conv2d_1 (Conv2D)            (None, 11, 11, 64)        18496     \n",
            "_________________________________________________________________\n",
            "max_pooling2d_1 (MaxPooling2 (None, 5, 5, 64)          0         \n",
            "_________________________________________________________________\n",
            "conv2d_2 (Conv2D)            (None, 3, 3, 64)          36928     \n",
            "_________________________________________________________________\n",
            "flatten (Flatten)            (None, 576)               0         \n",
            "_________________________________________________________________\n",
            "dense_12 (Dense)             (None, 64)                36928     \n",
            "_________________________________________________________________\n",
            "dense_13 (Dense)             (None, 10)                650       \n",
            "=================================================================\n",
            "Total params: 93,322\n",
            "Trainable params: 93,322\n",
            "Non-trainable params: 0\n",
            "_________________________________________________________________\n"
          ],
          "name": "stdout"
        }
      ]
    },
    {
      "cell_type": "markdown",
      "metadata": {
        "id": "n8mb9h8dY9AV"
      },
      "source": [
        "- Compile the Network"
      ]
    },
    {
      "cell_type": "code",
      "metadata": {
        "id": "25pjdI4dX8Dn"
      },
      "source": [
        "network.compile(\n",
        "    optimizer='rmsprop',\n",
        "    loss='categorical_crossentropy',\n",
        "    metrics=['accuracy']\n",
        ")"
      ],
      "execution_count": 37,
      "outputs": []
    },
    {
      "cell_type": "markdown",
      "metadata": {
        "id": "SF9JTjsuZiBj"
      },
      "source": [
        "- Fit!"
      ]
    },
    {
      "cell_type": "code",
      "metadata": {
        "colab": {
          "base_uri": "https://localhost:8080/"
        },
        "id": "p4QqA84UZkyy",
        "outputId": "1eee84b4-7f3f-4f49-a82d-2e9516e72606"
      },
      "source": [
        "history = network.fit(train_images,train_label,epochs=5,batch_size=64)"
      ],
      "execution_count": 38,
      "outputs": [
        {
          "output_type": "stream",
          "text": [
            "Epoch 1/5\n",
            "938/938 [==============================] - 49s 51ms/step - loss: 0.4022 - accuracy: 0.8746\n",
            "Epoch 2/5\n",
            "938/938 [==============================] - 47s 50ms/step - loss: 0.0489 - accuracy: 0.9844\n",
            "Epoch 3/5\n",
            "938/938 [==============================] - 47s 50ms/step - loss: 0.0324 - accuracy: 0.9903\n",
            "Epoch 4/5\n",
            "938/938 [==============================] - 47s 50ms/step - loss: 0.0239 - accuracy: 0.9931\n",
            "Epoch 5/5\n",
            "938/938 [==============================] - 48s 51ms/step - loss: 0.0191 - accuracy: 0.9941\n"
          ],
          "name": "stdout"
        }
      ]
    },
    {
      "cell_type": "markdown",
      "metadata": {
        "id": "dGokZ1QRaoNI"
      },
      "source": [
        "- Evaluate"
      ]
    },
    {
      "cell_type": "code",
      "metadata": {
        "colab": {
          "base_uri": "https://localhost:8080/"
        },
        "id": "5lyXiuKSad7c",
        "outputId": "81e4d42d-fbcd-4adf-80e9-d75643ed8c03"
      },
      "source": [
        "test_loss, test_acc = network.evaluate(test_images,test_label)\n",
        "print('The acc of this model is: ', test_acc)"
      ],
      "execution_count": 39,
      "outputs": [
        {
          "output_type": "stream",
          "text": [
            "313/313 [==============================] - 3s 9ms/step - loss: 0.0297 - accuracy: 0.9905\n",
            "The acc of this model is:  0.9904999732971191\n"
          ],
          "name": "stdout"
        }
      ]
    },
    {
      "cell_type": "markdown",
      "metadata": {
        "id": "pl9gH968gw_z"
      },
      "source": [
        "### 5.1.2 卷积运算\n",
        "- 卷积具有平移不变形\n",
        "- 卷积神经网络可以学到模式的空间层次结构\n",
        "  - 第一层卷积学到小的模式\n",
        "  - 下一层将小的模式结合抽象成更大的模式\n",
        "- 卷积的输出叫做**特征图**\n",
        "  - 输出的特征图是3D张量\n",
        "  - 深度轴不再是RGB，而是取决于filter的个数\n",
        "- 可以看到第一层卷积的产出是（26，26，32）的tensor\n",
        "  - 这里的32指的是对于32个filter的32个响应图\n",
        "\n",
        "#### § Conv2D的重点参数\n",
        "1. 卷积核的大小，通常为（3，3）或（5，5）\n",
        "2. 输出特征图的深度，即filter的个数\n",
        "\n",
        "#### Q：输出的特征图长宽通常比输入小\n",
        "1. 边界效应\n",
        "  - 如何输出相同长宽？设置填充padding=\"same\"\n",
        "  - 默认设置：padding=\"valid\"，即无填充\n",
        "2. 卷积的步幅\n",
        "  - 卷积核通常一个一个像素的平移\n",
        "  - 步幅指的是卷积核每次移动所走过的像素个数\n",
        "  - 通常不用其他步幅\n"
      ]
    },
    {
      "cell_type": "code",
      "metadata": {
        "id": "1lVCtrCLgsDp"
      },
      "source": [
        ""
      ],
      "execution_count": null,
      "outputs": []
    }
  ]
}